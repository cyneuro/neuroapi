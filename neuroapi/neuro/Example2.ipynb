{
 "cells": [
  {
   "cell_type": "code",
   "execution_count": 1,
   "metadata": {},
   "outputs": [
    {
     "data": {
      "text/html": [
       "<script>\n",
       "code_show=true; \n",
       "function code_toggle() {\n",
       " if (code_show){\n",
       " $('div.input').hide();\n",
       " } else {\n",
       " $('div.input').show();\n",
       " }\n",
       " code_show = !code_show\n",
       "} \n",
       "$( document ).ready(code_toggle);\n",
       "</script>\n",
       "<form action=\"javascript:code_toggle()\"><input type=\"submit\" value=\"Click here to Hide/Show the code.\"></form>"
      ],
      "text/plain": [
       "<IPython.core.display.HTML object>"
      ]
     },
     "execution_count": 1,
     "metadata": {},
     "output_type": "execute_result"
    }
   ],
   "source": [
    "from IPython.display import HTML\n",
    "\n",
    "HTML('''<script>\n",
    "code_show=true; \n",
    "function code_toggle() {\n",
    " if (code_show){\n",
    " $('div.input').hide();\n",
    " } else {\n",
    " $('div.input').show();\n",
    " }\n",
    " code_show = !code_show\n",
    "} \n",
    "$( document ).ready(code_toggle);\n",
    "</script>\n",
    "<form action=\"javascript:code_toggle()\"><input type=\"submit\" value=\"Click here to Hide/Show the code.\"></form>''')"
   ]
  },
  {
   "cell_type": "code",
   "execution_count": 2,
   "metadata": {
    "scrolled": true
   },
   "outputs": [
    {
     "data": {
      "application/javascript": [
       "IPython.notebook.execute_cells_below()"
      ],
      "text/plain": [
       "<IPython.core.display.Javascript object>"
      ]
     },
     "execution_count": 2,
     "metadata": {},
     "output_type": "execute_result"
    }
   ],
   "source": [
    "from IPython.display import Javascript\n",
    "Javascript('IPython.notebook.execute_cells_below()')"
   ]
  },
  {
   "cell_type": "code",
   "execution_count": 3,
   "metadata": {
    "scrolled": true
   },
   "outputs": [],
   "source": [
    "from neuron import h\n",
    "import ipywidgets as widgets\n",
    "from ipywidgets import HBox,VBox,Label,Layout\n",
    "from IPython.display import display\n",
    "import matplotlib.pyplot as plt\n",
    "import pandas as pd\n",
    "import numpy as np\n",
    "import shutil\n",
    "import os\n",
    "from IPython.display import clear_output\n",
    "%matplotlib inline\n",
    "h.load_file('stdrun.hoc')\n",
    "clear_output()"
   ]
  },
  {
   "cell_type": "code",
   "execution_count": 4,
   "metadata": {},
   "outputs": [],
   "source": [
    "w_Na = widgets.Checkbox(value=False,description='Na',button_style='info')\n",
    "w_K = widgets.Checkbox(value=False,description='K',button_style='info')\n",
    "def update_Na(*args):\n",
    "    if w_Na.value:\n",
    "        shutil.copy('../source/na1.mod','.')\n",
    "w_Na.observe(update_Na,'value')\n",
    "def update_K(*args):\n",
    "    if w_Na.value:\n",
    "        shutil.copy('../source/k1.mod','.')\n",
    "w_Na.observe(update_K,'value')\n",
    "w_K.observe(update_K,'value')\n",
    "\n",
    "ui1 = HBox([VBox([Label('Channels')],layout=Layout(width='10%')),VBox([w_Na,w_K],layout=Layout(width='38%'))])"
   ]
  },
  {
   "cell_type": "code",
   "execution_count": 5,
   "metadata": {},
   "outputs": [],
   "source": [
    "text0 = widgets.Text()\n",
    "text0.description='Passive:'\n",
    "#display(text1)\n",
    "Passive = []\n",
    "def Passive_value(sender):\n",
    "    Passive.append(sender.value)\n",
    "    if len(Passive)==3:\n",
    "        print('tau',Passive[0],'R_in:',Passive[1],'Vrest:',Passive[2])\n",
    "        return\n",
    "text0.on_submit(Passive_value)"
   ]
  },
  {
   "cell_type": "code",
   "execution_count": 6,
   "metadata": {},
   "outputs": [],
   "source": [
    "text1 = widgets.Text()\n",
    "text1.description='Amplitude:'\n",
    "#display(text1)\n",
    "amplitude = []\n",
    "def amplitude_value(sender):\n",
    "    amplitude.append(sender.value)\n",
    "    if sender.value == 'all':\n",
    "        del amplitude[-1]\n",
    "        print('amplitude_value',amplitude,'spiking spots number:',len(amplitude))\n",
    "        return\n",
    "text1.on_submit(amplitude_value)"
   ]
  },
  {
   "cell_type": "code",
   "execution_count": 7,
   "metadata": {},
   "outputs": [],
   "source": [
    "text2 = widgets.Text()\n",
    "text2.description='Frequency:'\n",
    "#display(text2)\n",
    "frequency = []\n",
    "def frequency_value(sender):\n",
    "    frequency.append(sender.value)\n",
    "    if sender.value == 'all':\n",
    "        del frequency[-1]\n",
    "        print('frequency_value',frequency,'spiking spots number:',len(frequency))\n",
    "        return\n",
    "text2.on_submit(frequency_value)"
   ]
  },
  {
   "cell_type": "code",
   "execution_count": 8,
   "metadata": {},
   "outputs": [],
   "source": [
    "FloatText1 = widgets.FloatText(\n",
    "    value=-38.43,\n",
    "    description='Vhalf_m:',\n",
    "    disabled=False\n",
    ")\n",
    "Vhalf_m_init = FloatText1.value\n",
    "FloatText2 = widgets.FloatText(\n",
    "    value=-15,\n",
    "    description='Vhalf_n:',\n",
    "    disabled=False\n",
    ")\n",
    "Vhalf_n_init = FloatText2.value\n",
    "FloatText3 = widgets.FloatText(\n",
    "    value=-81,\n",
    "    description='Vhalf_h:',\n",
    "    disabled=False\n",
    ")\n",
    "Vhalf_h_init = FloatText3.value\n",
    "FloatText4 = widgets.FloatText(\n",
    "    value=7.2,\n",
    "    description='K_m:',\n",
    "    disabled=False\n",
    ")\n",
    "K_m_init = FloatText4.value\n",
    "FloatText5 = widgets.FloatText(\n",
    "    value=11,\n",
    "    description='K_n:',\n",
    "    disabled=False\n",
    ")\n",
    "K_n_init = FloatText5.value\n",
    "FloatText6 = widgets.FloatText(\n",
    "    value=-8,\n",
    "    description='K_h:',\n",
    "    disabled=False\n",
    ")\n",
    "K_h_init = FloatText6.value\n",
    "ui2 = HBox([VBox([Label('Vhalf&slope')],layout=Layout(width='10%')),VBox([FloatText1,FloatText2,FloatText3,FloatText4,FloatText5,FloatText6],layout=Layout(width='38%'))])\n"
   ]
  },
  {
   "cell_type": "code",
   "execution_count": 15,
   "metadata": {},
   "outputs": [
    {
     "data": {
      "application/vnd.jupyter.widget-view+json": {
       "model_id": "52026bd871914fde940172f272837f99",
       "version_major": 2,
       "version_minor": 0
      },
      "text/plain": [
       "Tab(children=(HBox(children=(VBox(children=(Label(value='Channels'),), layout=Layout(width='10%')), VBox(child…"
      ]
     },
     "metadata": {},
     "output_type": "display_data"
    }
   ],
   "source": [
    "tab_contents = ['Channel_Library','Passive','Amplitude', 'Frequency','Vhalf&slope']\n",
    "children = [widgets.Text(description=name) for name in tab_contents]\n",
    "tab = widgets.Tab()\n",
    "tab.children = [ui1,text0,text1,text2,ui2]\n",
    "for i in range(len(children)):\n",
    "    tab.set_title(0,'Channels')\n",
    "    tab.set_title(1,'Passive')\n",
    "    tab.set_title(2,'Amplitude')\n",
    "    tab.set_title(3,'Frequency')\n",
    "    tab.set_title(4,'Vhalf&slope')\n",
    "tab"
   ]
  },
  {
   "cell_type": "markdown",
   "metadata": {},
   "source": [
    "1.Select Channels modfiles you need in the first tab\n",
    "2.Type in Passive Properties in the order of \"tau\",\"Rin\",\"Vrest\"\n",
    "3.Type in the value of amplitude, use \"all\" to finish it\n",
    "4.Type in the value of amplitude, use \"all\" to finish it"
   ]
  },
  {
   "cell_type": "code",
   "execution_count": 10,
   "metadata": {},
   "outputs": [
    {
     "name": "stdout",
     "output_type": "stream",
     "text": [
      "--Call--\n",
      "> c:\\users\\tyler\\anaconda3\\envs\\clean\\lib\\site-packages\\ipython\\core\\displayhook.py(247)__call__()\n",
      "-> def __call__(self, result=None):\n",
      "(Pdb) continue\n"
     ]
    }
   ],
   "source": [
    "import pdb\n",
    "pdb.set_trace()"
   ]
  },
  {
   "cell_type": "markdown",
   "metadata": {},
   "source": [
    "Type 'continue' here"
   ]
  },
  {
   "cell_type": "code",
   "execution_count": 11,
   "metadata": {},
   "outputs": [],
   "source": [
    "#os.system('nrnivmodl')\n",
    "clear_output()"
   ]
  },
  {
   "cell_type": "code",
   "execution_count": 12,
   "metadata": {},
   "outputs": [],
   "source": [
    "soma = h.Section(name='soma')\n",
    "soma.L = 100 # um\n",
    "soma.insert('hh')\n",
    "v0_vec = h.Vector()\n",
    "t_vec = h.Vector()\n",
    "v0_vec.record(soma(0.5)._ref_v)\n",
    "t_vec.record(h._ref_t)\n",
    "soma.insert('na1')\n",
    "soma.insert('k1')\n",
    "soma.insert('hd')\n",
    "m_na = h.Vector()\n",
    "h_hd = h.Vector()\n",
    "n_k = h.Vector()\n",
    "tau_m = h.Vector()\n",
    "tau_h = h.Vector()\n",
    "tau_n = h.Vector()\n",
    "m_na.record(soma(0.5)._ref_minf_na1)\n",
    "h_hd.record(soma(0.5)._ref_linf_hd)\n",
    "n_k.record(soma(0.5)._ref_ninf_k1)\n",
    "tau_m.record(soma(0.5)._ref_mtau_na1)\n",
    "tau_h.record(soma(0.5)._ref_taul_hd)\n",
    "tau_n.record(soma(0.5)._ref_taun_k1)\n",
    "clear_output()"
   ]
  },
  {
   "cell_type": "code",
   "execution_count": 13,
   "metadata": {},
   "outputs": [],
   "source": [
    "def activemodel(diam,cm,el,gl,gna,gh,gk,tstop,dur,amp,mhalf,hhalf,mk,hk,nhalf,kn,multiply,multiply1,multiply2,seg1,seg2,seg3):\n",
    "    soma.diam = diam\n",
    "    soma.cm = cm*1.4884e-4/6.2832e-4\n",
    "    soma.gbar_na1 = gna*1e-3\n",
    "    soma.gbar_k1 = gk*1e-3\n",
    "    soma.gl_hh = gl*1e-6\n",
    "    soma.ghdbar_hd = gh*1e-4\n",
    "    soma.el_hh = el\n",
    "    soma.mhalf_na1 = mhalf\n",
    "    soma.vhalfl_hd = hhalf\n",
    "    soma.mk_na1 = mk\n",
    "    soma.kl_hd = hk\n",
    "    soma.vhalfn_k1 = nhalf\n",
    "    soma.kn_k1 = kn\n",
    "    soma.multiply1_na1 = multiply1\n",
    "    soma.multiply2_na1 = multiply2\n",
    "    soma.multiply_k1 = multiply\n",
    "    soma.seg_value1_k1 = seg1\n",
    "    soma.seg_value2_na1 = seg2\n",
    "    soma.seg_value3_hd = seg3\n",
    "        \n",
    "    Source = h.IClamp(soma(0.5))\n",
    "    Source.delay = dur[0]\n",
    "    Source.dur = dur[1]-dur[0]\n",
    "    Source.amp = amp\n",
    "    \n",
    "    h.tstop = tstop\n",
    "    h.v_init = el\n",
    "    \n",
    "    nc = h.NetCon(soma(0.5)._ref_v,None,sec=soma)\n",
    "    nc.threshold = 0\n",
    "    spvec = h.Vector()\n",
    "    nc.record(spvec)\n",
    "    if Source.amp < 0:\n",
    "        h.run()\n",
    "        print('number of spikes:',len(spvec))\n",
    "        \n",
    "        R_in_1 = 1/(soma.gl_hh*1000)\n",
    "        tau_1 = soma.cm*R_in_1\n",
    "        V_rest_1 = v0_vec[int(tstop)-20]\n",
    "        \n",
    "        R_in_2 = Passive[1]\n",
    "        tau_2 = Passive[0]\n",
    "        V_rest_2 = Passive[2]\n",
    "    \n",
    "        df1 = pd.DataFrame([[tau_1],[V_rest_1],[R_in_1],[tau_2],[V_rest_2],[R_in_2]],\n",
    "        columns=['value  '],\n",
    "        index = ['tau_seg  ', 'Vrest_seg  ', 'Rin_seg  ','tau_ori  ', 'Vrest_ori  ', 'Rin_ori  '])\n",
    "        print (df1)\n",
    "        plt.figure(figsize=(10,6))\n",
    "        plt.plot(t_vec, v0_vec,'b')\n",
    "        plt.xlim(0, tstop)\n",
    "        plt.ylabel('mV')\n",
    "    \n",
    "        \n",
    "    # FIR Curve\n",
    "\n",
    "    freq1 = []\n",
    "    I1 = []\n",
    "    freq2 = []\n",
    "    I2 = []\n",
    "    if (Source.amp > 0):\n",
    "        for Source.amp in np.arange(amp,amp+1,0.1):\n",
    "            h.run()\n",
    "            freq1.append(len(spvec)*1000/Source.dur)\n",
    "            I1.append(Source.amp)\n",
    "        plt.figure(figsize=(16,14))\n",
    "        plt.subplot(4,1,1)\n",
    "        plt.plot(t_vec, v0_vec,'b')\n",
    "        plt.xlim(0, tstop)\n",
    "        plt.ylabel('mV')\n",
    "        plt.subplot(4,1,2)\n",
    "        plt.plot(amplitude,frequency,'bo')\n",
    "        plt.plot(I1,freq1,'yo')\n",
    "        #plt.legend([soma.flag_k1,1-soma.flag_k1])\n",
    "        plt.xlabel('Injected current (nA)')\n",
    "        plt.ylabel('frequency') \n",
    "        plt.subplot(4,1,3)\n",
    "        plt.plot(v0_vec, m_na,'r.')\n",
    "        plt.plot(v0_vec, h_hd,'b.')\n",
    "        plt.plot(v0_vec, n_k, 'g.')\n",
    "       # plt.xlim(0, tstop)\n",
    "        plt.xlabel('voltage (mV)')\n",
    "        plt.ylabel('Probability')\n",
    "        plt.legend(['minf','hinf','ninf'])\n",
    "        plt.subplot(4,1,4)\n",
    "        plt.plot(v0_vec, tau_m,'r.')\n",
    "        plt.plot(v0_vec, tau_h,'b.')\n",
    "        plt.plot(v0_vec, tau_n, 'g.')\n",
    "        plt.xlabel('vlotage (mV)')\n",
    "        plt.ylabel('tau')\n",
    "        plt.legend(['minf','hinf','ninf'])\n",
    "    plt.show()\n",
    "    print(I1,freq1)"
   ]
  },
  {
   "cell_type": "code",
   "execution_count": 14,
   "metadata": {},
   "outputs": [
    {
     "data": {
      "application/vnd.jupyter.widget-view+json": {
       "model_id": "9a7486a5359d4ae68e2b01cc537d5530",
       "version_major": 2,
       "version_minor": 0
      },
      "text/plain": [
       "HBox(children=(VBox(children=(Label(value='Easy Model'), Label(value='Passive Cell'), Label(value='\\\\( E_{l}\\\\…"
      ]
     },
     "metadata": {},
     "output_type": "display_data"
    },
    {
     "data": {
      "application/vnd.jupyter.widget-view+json": {
       "model_id": "4a7a21916fd04461b4ca6165a4b1b759",
       "version_major": 2,
       "version_minor": 0
      },
      "text/plain": [
       "Output()"
      ]
     },
     "metadata": {},
     "output_type": "display_data"
    }
   ],
   "source": [
    "# default settings\n",
    "diam = 200\n",
    "cm = 1\n",
    "el = -70\n",
    "gl = 30\n",
    "gna = 120\n",
    "gk = 12\n",
    "gh = 10\n",
    "tstop = 500\n",
    "dur = [100,400]\n",
    "amp = 0.1\n",
    "seg1 = -60\n",
    "seg2 = -61\n",
    "seg3 = -62.5\n",
    "mhalf = Vhalf_m_init\n",
    "hhalf = Vhalf_h_init\n",
    "mk = K_m_init\n",
    "hk = K_h_init\n",
    "kn = K_n_init\n",
    "vhalfn = Vhalf_n_init\n",
    "multiply = 1\n",
    "multiply1 = 1\n",
    "multiply2 = 1\n",
    "\n",
    "w_model = widgets.Checkbox(value=False,description='Easy_Model',button_style='info')\n",
    "w_pass = widgets.Checkbox(value=False,description='Passive',button_style='info')\n",
    "w_el = widgets.FloatSlider(value=el,min=-80,max=-60,step=.2,continuous_update=False,readout_format='.1f')\n",
    "w_gl = widgets.FloatSlider(value=gl,min=5,max=50,step=.2,continuous_update=False,readout_format='.1f')\n",
    "w_gna = widgets.FloatSlider(value=gna,min=0,max=200,step=.5,continuous_update=False,readout_format='.1f')\n",
    "w_gk = widgets.FloatSlider(value=gk,min=0,max=30,step=.1,continuous_update=False,readout_format='.1f')\n",
    "w_mhalf = widgets.FloatSlider(value=mhalf,min=-50,max=-5,step=1,continuous_update=False,readout_format='.1f')\n",
    "w_hhalf = widgets.FloatSlider(value=hhalf,min=-90,max=-40,step=1,continuous_update=False,readout_format='.1f')\n",
    "w_nhalf = widgets.FloatSlider(value=vhalfn,min=-30,max=5,step=1,continuous_update=False,readout_format='.1f')\n",
    "w_seg1 = widgets.FloatSlider(value=seg1,min=-70,max=-50,step=1,continuous_update=False,readout_format='.1f')\n",
    "w_seg3 = widgets.FloatSlider(value=seg3,min=-70,max=-50,step=1,continuous_update=False,readout_format='.1f')\n",
    "w_gh = widgets.FloatSlider(value=gh,min=0,max=100,step=.1,continuous_update=False,readout_format='.1f')\n",
    "\n",
    "w_tstop = widgets.FloatText(value=500)\n",
    "w_dur = widgets.FloatRangeSlider(value=[100,400],min=0,max=500,step=5,continuous_update=False,readout_format='.0f')\n",
    "w_amp = widgets.FloatSlider(value=0.1,min=-.2,max=.8,step=.01,continuous_update=False,readout_format='.2f')\n",
    "w_diam = widgets.FloatSlider(value=diam,min=100,max=300,step=2,continuous_update=False,readout_format='.0f')\n",
    "w_cm = widgets.FloatLogSlider(value=cm,min=-1,max=1,step=.05,continuous_update=False,readout_format='.1f')\n",
    "w_mk = widgets.FloatSlider(value=mk,min=0,max=30,step=.1,continuous_update=False,readout_format='.1f')\n",
    "w_hk = widgets.FloatSlider(value=hk,min=0,max=30,step=.1,continuous_update=False,readout_format='.1f')\n",
    "w_kn = widgets.FloatSlider(value=kn,min=0,max=30,step=1,continuous_update=False,readout_format='.1f')\n",
    "w_multiply = widgets.FloatSlider(value=multiply,min=0,max=1,step=.1,continuous_update=False,readout_format='.1f')\n",
    "w_multiply1 = widgets.FloatSlider(value=multiply1,min=0,max=1,step=.1,continuous_update=False,readout_format='.1f')\n",
    "w_multiply2 = widgets.FloatSlider(value=multiply2,min=0,max=1,step=.1,continuous_update=False,readout_format='.1f')\n",
    "w_seg2 = widgets.FloatSlider(value=seg2,min=-70,max=-50,step=1,continuous_update=False,readout_format='.1f')\n",
    "\n",
    "def update_pass(*args):\n",
    "    if w_pass.value:\n",
    "        global gna,gk,df1\n",
    "        gna = w_gna.value\n",
    "        gk = w_gk.value\n",
    "        w_amp.value = -0.03\n",
    "        w_gna.value = w_gk.value = 0\n",
    "        w_gna.disabled = w_gk.disabled = True\n",
    "        \n",
    "    else:\n",
    "        w_gna.value = gna\n",
    "        w_gk.value = gk\n",
    "        w_amp.value = 0.1\n",
    "        w_gna.disabled = w_gk.disabled = False\n",
    "w_pass.observe(update_pass,'value')\n",
    "\n",
    "def update_easy(*args):\n",
    "    if w_model.value:\n",
    "        global mhalf,hhalf,vhalfn,mk,hk,kn,multiply,multiply1,multiply2,seg1,seg2,seg3\n",
    "        mhalf = w_mhalf \n",
    "        hhalf = w_hhalf\n",
    "        vhalf = w_nhalf\n",
    "        mk = w_mk \n",
    "        hk = w_hk\n",
    "        kn = w_kn \n",
    "        multiply = w_multiply\n",
    "        multiply1 = w_multiply1\n",
    "        multiply2 = w_multiply2\n",
    "        w_mhalf.disabled = True\n",
    "        w_hhalf.disabled = True\n",
    "        w_nhalf.disabled = True\n",
    "        w_mk.disabled = True\n",
    "        w_hk.disabled = True\n",
    "        w_kn.disabled = True\n",
    "        w_multiply.disabled = True\n",
    "        w_multiply1.disabled = True\n",
    "        w_multiply2.disabled = True\n",
    "        w_seg1.disabled = True\n",
    "        w_seg2.disabled = True\n",
    "        w_seg3.disabled = True\n",
    "w_model.observe(update_easy,'value')\n",
    "                 \n",
    "def update_dur(*args):\n",
    "    w_dur.max = w_tstop.value\n",
    "w_tstop.observe(update_dur,'value')\n",
    "\n",
    "\n",
    "ui = HBox([VBox([Label('Easy Model'),Label('Passive Cell'),Label(value=r'\\( E_{l}\\:(mV) \\)'),Label(value=r'\\( g_{leak}\\:(\\mu S/cm^2) \\)'),\n",
    "                 Label(value=r'\\( g_{Na}\\:(mS/cm^2) \\)'),Label(value=r'\\( g_{K}\\:(mS/cm^2) \\)'),Label(value=r'\\( g_{h}\\:(mS/cm^2) \\)'),Label(value=r'\\( V{1/2m}\\: \\)'),Label(value=r'\\( V{1/2h}\\: \\)'),Label(value=r'\\( V{1/2n}\\: \\)'),Label(value='seg_value1'),Label(value='seg_value3')],layout=Layout(width='10%')),\n",
    "           VBox([w_model,w_pass,w_el,w_gl,w_gna,w_gk,w_gh,w_mhalf,w_hhalf,w_nhalf,w_seg1,w_seg3],layout=Layout(width='38%')),\n",
    "           VBox([Label(value=r'\\( tstop\\:(ms) \\)'),Label(value=r'\\( Injection duration\\:(ms) \\)'),Label(value=r'\\( I_{inject}\\:(nA) \\)'),\n",
    "                 Label(value=r'\\( soma\\:diameter\\:(\\mu m) \\)'),Label(value=r'\\( capacitance\\:scale \\)'),Label(value=r'\\( k_{m}\\: \\)'),Label(value=r'\\( k_{h}\\: \\)'),Label(value=r'\\( k_{n}\\: \\)'),\n",
    "                Label(value= 'multiply_n'),Label(value='multiply_m'),Label(value='multiply_h'),Label(value='seg_value2')],layout=Layout(width='14%')),\n",
    "           VBox([w_tstop,w_dur,w_amp,w_diam,w_cm,w_mk,w_hk,w_kn,w_multiply,w_multiply1,w_multiply2,w_seg2],layout=Layout(width='38%')) ])\n",
    "\n",
    "out = widgets.interactive_output(activemodel,{'el':w_el,'gl':w_gl,'gna':w_gna,'gh':w_gh,'gk':w_gk,\n",
    "                                              'tstop':w_tstop,'dur':w_dur,'amp':w_amp,'diam':w_diam,'cm':w_cm,\n",
    "                                              'mhalf':w_mhalf,'hhalf':w_hhalf,'nhalf':w_nhalf,'mk':w_mk,\n",
    "                                              'hk':w_hk,'kn':w_kn,'multiply':w_multiply,'multiply1':w_multiply1,'multiply2':w_multiply2,'seg1':w_seg1,'seg2':w_seg2,'seg3':w_seg3})\n",
    "display(ui,out)\n"
   ]
  },
  {
   "cell_type": "code",
   "execution_count": null,
   "metadata": {},
   "outputs": [],
   "source": []
  },
  {
   "cell_type": "code",
   "execution_count": null,
   "metadata": {},
   "outputs": [],
   "source": []
  }
 ],
 "metadata": {
  "kernelspec": {
   "display_name": "Python 3",
   "language": "python",
   "name": "python3"
  },
  "language_info": {
   "codemirror_mode": {
    "name": "ipython",
    "version": 3
   },
   "file_extension": ".py",
   "mimetype": "text/x-python",
   "name": "python",
   "nbconvert_exporter": "python",
   "pygments_lexer": "ipython3",
   "version": "3.7.0"
  }
 },
 "nbformat": 4,
 "nbformat_minor": 2
}
